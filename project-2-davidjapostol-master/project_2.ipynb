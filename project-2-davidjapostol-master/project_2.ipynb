{
 "cells": [
  {
   "cell_type": "markdown",
   "id": "orange-therapist",
   "metadata": {},
   "source": [
    "# Project 2: What kind of wine is this?"
   ]
  },
  {
   "cell_type": "markdown",
   "id": "hindu-anxiety",
   "metadata": {},
   "source": [
    "## David Apostol"
   ]
  },
  {
   "cell_type": "code",
   "execution_count": 1,
   "id": "duplicate-bench",
   "metadata": {},
   "outputs": [],
   "source": [
    "import numpy as np\n",
    "import pandas as pd\n",
    "from cytoolz import *\n",
    "from tqdm.auto import tqdm\n",
    "\n",
    "tqdm.pandas()"
   ]
  },
  {
   "cell_type": "markdown",
   "id": "inside-andrew",
   "metadata": {},
   "source": [
    "# 1."
   ]
  },
  {
   "cell_type": "markdown",
   "id": "addressed-warning",
   "metadata": {},
   "source": [
    "## Load and preprocess data"
   ]
  },
  {
   "cell_type": "code",
   "execution_count": 2,
   "id": "surprising-florence",
   "metadata": {},
   "outputs": [],
   "source": [
    "train = pd.read_parquet(\n",
    "    \"s3://ling583/wine-train.parquet\", storage_options={\"anon\": True}\n",
    ")\n",
    "test = pd.read_parquet(\"s3://ling583/wine-test.parquet\", storage_options={\"anon\": True})"
   ]
  },
  {
   "cell_type": "code",
   "execution_count": 3,
   "id": "pressed-huntington",
   "metadata": {},
   "outputs": [
    {
     "data": {
      "text/html": [
       "<div>\n",
       "<style scoped>\n",
       "    .dataframe tbody tr th:only-of-type {\n",
       "        vertical-align: middle;\n",
       "    }\n",
       "\n",
       "    .dataframe tbody tr th {\n",
       "        vertical-align: top;\n",
       "    }\n",
       "\n",
       "    .dataframe thead th {\n",
       "        text-align: right;\n",
       "    }\n",
       "</style>\n",
       "<table border=\"1\" class=\"dataframe\">\n",
       "  <thead>\n",
       "    <tr style=\"text-align: right;\">\n",
       "      <th></th>\n",
       "      <th>review_text</th>\n",
       "      <th>wine_variant</th>\n",
       "    </tr>\n",
       "  </thead>\n",
       "  <tbody>\n",
       "    <tr>\n",
       "      <th>0</th>\n",
       "      <td>Rich smoky dark cherry nose very intense fruit...</td>\n",
       "      <td>Pinot Noir</td>\n",
       "    </tr>\n",
       "    <tr>\n",
       "      <th>1</th>\n",
       "      <td>Had this at Corton Restaurant in NYC. First of...</td>\n",
       "      <td>Syrah</td>\n",
       "    </tr>\n",
       "    <tr>\n",
       "      <th>2</th>\n",
       "      <td>Nose is very tart, with a layer of sweet fruit...</td>\n",
       "      <td>Pinot Noir</td>\n",
       "    </tr>\n",
       "    <tr>\n",
       "      <th>3</th>\n",
       "      <td>Beautiful golden color. Discrete perfumed nose...</td>\n",
       "      <td>Chardonnay</td>\n",
       "    </tr>\n",
       "    <tr>\n",
       "      <th>4</th>\n",
       "      <td>Please take the time to decant: you will not b...</td>\n",
       "      <td>Pinot Noir</td>\n",
       "    </tr>\n",
       "  </tbody>\n",
       "</table>\n",
       "</div>"
      ],
      "text/plain": [
       "                                         review_text wine_variant\n",
       "0  Rich smoky dark cherry nose very intense fruit...   Pinot Noir\n",
       "1  Had this at Corton Restaurant in NYC. First of...        Syrah\n",
       "2  Nose is very tart, with a layer of sweet fruit...   Pinot Noir\n",
       "3  Beautiful golden color. Discrete perfumed nose...   Chardonnay\n",
       "4  Please take the time to decant: you will not b...   Pinot Noir"
      ]
     },
     "execution_count": 3,
     "metadata": {},
     "output_type": "execute_result"
    }
   ],
   "source": [
    "train.head()"
   ]
  },
  {
   "cell_type": "code",
   "execution_count": 4,
   "id": "accepted-defensive",
   "metadata": {},
   "outputs": [
    {
     "data": {
      "text/plain": [
       "Pinot Noir            38471\n",
       "Cabernet Sauvignon    30234\n",
       "Chardonnay            19443\n",
       "Syrah                 13704\n",
       "Riesling               9683\n",
       "Zinfandel              8327\n",
       "Merlot                 5522\n",
       "Sauvignon Blanc        5113\n",
       "Name: wine_variant, dtype: int64"
      ]
     },
     "execution_count": 4,
     "metadata": {},
     "output_type": "execute_result"
    }
   ],
   "source": [
    "train[\"wine_variant\"].value_counts()"
   ]
  },
  {
   "cell_type": "code",
   "execution_count": 5,
   "id": "scenic-silly",
   "metadata": {},
   "outputs": [],
   "source": [
    "import spacy\n",
    "\n",
    "nlp = spacy.load(\n",
    "    \"en_core_web_sm\",\n",
    "    exclude=[\"tagger\", \"parser\", \"ner\", \"lemmatizer\", \"attribute_ruler\"],\n",
    ")\n",
    "\n",
    "\n",
    "def tokenize(text):\n",
    "    doc = nlp.tokenizer(text)\n",
    "    return [t.norm_ for t in doc if t.is_alpha]"
   ]
  },
  {
   "cell_type": "code",
   "execution_count": 6,
   "id": "curious-salem",
   "metadata": {},
   "outputs": [],
   "source": [
    "import multiprocessing as mp"
   ]
  },
  {
   "cell_type": "code",
   "execution_count": 7,
   "id": "diverse-drunk",
   "metadata": {},
   "outputs": [
    {
     "data": {
      "application/vnd.jupyter.widget-view+json": {
       "model_id": "4e67018f61194498abd0a79b12165672",
       "version_major": 2,
       "version_minor": 0
      },
      "text/plain": [
       "  0%|          | 0/130497 [00:00<?, ?it/s]"
      ]
     },
     "metadata": {},
     "output_type": "display_data"
    },
    {
     "data": {
      "application/vnd.jupyter.widget-view+json": {
       "model_id": "ba70d87e65084fa6b8ecd571240ebdff",
       "version_major": 2,
       "version_minor": 0
      },
      "text/plain": [
       "  0%|          | 0/32625 [00:00<?, ?it/s]"
      ]
     },
     "metadata": {},
     "output_type": "display_data"
    }
   ],
   "source": [
    "with mp.Pool() as p:\n",
    "    train[\"tokens\"] = pd.Series(p.imap(tokenize, tqdm(train[\"review_text\"]), chunksize=100))\n",
    "    test[\"tokens\"] = pd.Series(p.imap(tokenize, tqdm(test[\"review_text\"]), chunksize=100))"
   ]
  },
  {
   "cell_type": "code",
   "execution_count": 8,
   "id": "spectacular-complex",
   "metadata": {},
   "outputs": [
    {
     "data": {
      "text/html": [
       "<div>\n",
       "<style scoped>\n",
       "    .dataframe tbody tr th:only-of-type {\n",
       "        vertical-align: middle;\n",
       "    }\n",
       "\n",
       "    .dataframe tbody tr th {\n",
       "        vertical-align: top;\n",
       "    }\n",
       "\n",
       "    .dataframe thead th {\n",
       "        text-align: right;\n",
       "    }\n",
       "</style>\n",
       "<table border=\"1\" class=\"dataframe\">\n",
       "  <thead>\n",
       "    <tr style=\"text-align: right;\">\n",
       "      <th></th>\n",
       "      <th>review_text</th>\n",
       "      <th>wine_variant</th>\n",
       "      <th>tokens</th>\n",
       "    </tr>\n",
       "  </thead>\n",
       "  <tbody>\n",
       "    <tr>\n",
       "      <th>0</th>\n",
       "      <td>Rich smoky dark cherry nose very intense fruit...</td>\n",
       "      <td>Pinot Noir</td>\n",
       "      <td>[rich, smoky, dark, cherry, nose, very, intens...</td>\n",
       "    </tr>\n",
       "    <tr>\n",
       "      <th>1</th>\n",
       "      <td>Had this at Corton Restaurant in NYC. First of...</td>\n",
       "      <td>Syrah</td>\n",
       "      <td>[had, this, at, corton, restaurant, in, nyc, f...</td>\n",
       "    </tr>\n",
       "    <tr>\n",
       "      <th>2</th>\n",
       "      <td>Nose is very tart, with a layer of sweet fruit...</td>\n",
       "      <td>Pinot Noir</td>\n",
       "      <td>[nose, is, very, tart, with, a, layer, of, swe...</td>\n",
       "    </tr>\n",
       "    <tr>\n",
       "      <th>3</th>\n",
       "      <td>Beautiful golden color. Discrete perfumed nose...</td>\n",
       "      <td>Chardonnay</td>\n",
       "      <td>[beautiful, golden, color, discrete, perfumed,...</td>\n",
       "    </tr>\n",
       "    <tr>\n",
       "      <th>4</th>\n",
       "      <td>Please take the time to decant: you will not b...</td>\n",
       "      <td>Pinot Noir</td>\n",
       "      <td>[please, take, the, time, to, decant, you, wil...</td>\n",
       "    </tr>\n",
       "  </tbody>\n",
       "</table>\n",
       "</div>"
      ],
      "text/plain": [
       "                                         review_text wine_variant  \\\n",
       "0  Rich smoky dark cherry nose very intense fruit...   Pinot Noir   \n",
       "1  Had this at Corton Restaurant in NYC. First of...        Syrah   \n",
       "2  Nose is very tart, with a layer of sweet fruit...   Pinot Noir   \n",
       "3  Beautiful golden color. Discrete perfumed nose...   Chardonnay   \n",
       "4  Please take the time to decant: you will not b...   Pinot Noir   \n",
       "\n",
       "                                              tokens  \n",
       "0  [rich, smoky, dark, cherry, nose, very, intens...  \n",
       "1  [had, this, at, corton, restaurant, in, nyc, f...  \n",
       "2  [nose, is, very, tart, with, a, layer, of, swe...  \n",
       "3  [beautiful, golden, color, discrete, perfumed,...  \n",
       "4  [please, take, the, time, to, decant, you, wil...  "
      ]
     },
     "execution_count": 8,
     "metadata": {},
     "output_type": "execute_result"
    }
   ],
   "source": [
    "train.head()"
   ]
  },
  {
   "cell_type": "markdown",
   "id": "ahead-warren",
   "metadata": {},
   "source": [
    "## SGD Classifier"
   ]
  },
  {
   "cell_type": "code",
   "execution_count": 9,
   "id": "alike-baking",
   "metadata": {},
   "outputs": [],
   "source": [
    "from sklearn.feature_extraction.text import CountVectorizer\n",
    "from sklearn.metrics import classification_report\n",
    "from sklearn.linear_model import SGDClassifier\n",
    "from sklearn.pipeline import make_pipeline"
   ]
  },
  {
   "cell_type": "code",
   "execution_count": 10,
   "id": "dental-breathing",
   "metadata": {},
   "outputs": [
    {
     "name": "stdout",
     "output_type": "stream",
     "text": [
      "                    precision    recall  f1-score   support\n",
      "\n",
      "Cabernet Sauvignon       0.67      0.84      0.74      7558\n",
      "        Chardonnay       0.77      0.88      0.82      4861\n",
      "            Merlot       0.77      0.35      0.48      1381\n",
      "        Pinot Noir       0.81      0.83      0.82      9618\n",
      "          Riesling       0.86      0.74      0.79      2421\n",
      "   Sauvignon Blanc       0.81      0.66      0.73      1278\n",
      "             Syrah       0.71      0.56      0.63      3426\n",
      "         Zinfandel       0.87      0.51      0.65      2082\n",
      "\n",
      "          accuracy                           0.76     32625\n",
      "         macro avg       0.78      0.67      0.71     32625\n",
      "      weighted avg       0.77      0.76      0.75     32625\n",
      "\n"
     ]
    }
   ],
   "source": [
    "sgd = make_pipeline(CountVectorizer(analyzer=identity), SGDClassifier())\n",
    "sgd.fit(train[\"tokens\"], train[\"wine_variant\"])\n",
    "predicted = sgd.predict(test[\"tokens\"])\n",
    "print(classification_report(test[\"wine_variant\"], predicted))"
   ]
  },
  {
   "cell_type": "code",
   "execution_count": 11,
   "id": "sexual-budapest",
   "metadata": {},
   "outputs": [],
   "source": [
    "import logger\n",
    "import mlflow\n",
    "from logger import log_search, log_test"
   ]
  },
  {
   "cell_type": "code",
   "execution_count": 12,
   "id": "loose-council",
   "metadata": {},
   "outputs": [],
   "source": [
    "mlflow.set_experiment(\"project_2\")\n",
    "log_test(sgd, test[\"wine_variant\"], predicted)"
   ]
  },
  {
   "cell_type": "markdown",
   "id": "widespread-crack",
   "metadata": {},
   "source": [
    "## Hyperparameters"
   ]
  },
  {
   "cell_type": "code",
   "execution_count": 13,
   "id": "accessory-senior",
   "metadata": {},
   "outputs": [
    {
     "data": {
      "text/html": [
       "<table style=\"border: 2px solid white;\">\n",
       "<tr>\n",
       "<td style=\"vertical-align: top; border: 0px solid white\">\n",
       "<h3 style=\"text-align: left;\">Client</h3>\n",
       "<ul style=\"text-align: left; list-style: none; margin: 0; padding: 0;\">\n",
       "  <li><b>Scheduler: </b>tcp://127.0.0.1:36739</li>\n",
       "  <li><b>Dashboard: </b><a href='http://127.0.0.1:8787/status' target='_blank'>http://127.0.0.1:8787/status</a></li>\n",
       "</ul>\n",
       "</td>\n",
       "<td style=\"vertical-align: top; border: 0px solid white\">\n",
       "<h3 style=\"text-align: left;\">Cluster</h3>\n",
       "<ul style=\"text-align: left; list-style:none; margin: 0; padding: 0;\">\n",
       "  <li><b>Workers: </b>4</li>\n",
       "  <li><b>Cores: </b>4</li>\n",
       "  <li><b>Memory: </b>16.62 GB</li>\n",
       "</ul>\n",
       "</td>\n",
       "</tr>\n",
       "</table>"
      ],
      "text/plain": [
       "<Client: 'tcp://127.0.0.1:36739' processes=4 threads=4, memory=16.62 GB>"
      ]
     },
     "execution_count": 13,
     "metadata": {},
     "output_type": "execute_result"
    }
   ],
   "source": [
    "from dask.distributed import Client\n",
    "\n",
    "client = Client(\"tcp://127.0.0.1:36739\")\n",
    "client"
   ]
  },
  {
   "cell_type": "code",
   "execution_count": 14,
   "id": "starting-simple",
   "metadata": {},
   "outputs": [],
   "source": [
    "from dask_ml.model_selection import RandomizedSearchCV\n",
    "from scipy.stats.distributions import loguniform, randint, uniform"
   ]
  },
  {
   "cell_type": "code",
   "execution_count": 15,
   "id": "bigger-jason",
   "metadata": {},
   "outputs": [],
   "source": [
    "from warnings import simplefilter\n",
    "\n",
    "simplefilter(action=\"ignore\", category=FutureWarning)"
   ]
  },
  {
   "cell_type": "code",
   "execution_count": 16,
   "id": "severe-strength",
   "metadata": {},
   "outputs": [],
   "source": [
    "mlflow.set_experiment(\"project_2/SGDClassifier\")"
   ]
  },
  {
   "cell_type": "code",
   "execution_count": 17,
   "id": "proved-daisy",
   "metadata": {},
   "outputs": [
    {
     "name": "stdout",
     "output_type": "stream",
     "text": [
      "CPU times: user 12.4 s, sys: 1.45 s, total: 13.8 s\n",
      "Wall time: 4min 11s\n"
     ]
    }
   ],
   "source": [
    "%%time\n",
    "\n",
    "search = RandomizedSearchCV(\n",
    "    sgd,\n",
    "    {\n",
    "        \"countvectorizer__min_df\": randint(1, 10),\n",
    "        \"countvectorizer__max_df\": uniform(0.5, 0.5),\n",
    "        \"sgdclassifier__alpha\": loguniform(1e-5, 2),\n",
    "    },\n",
    "    n_iter=25,\n",
    "    scoring=\"f1_macro\",\n",
    ")\n",
    "search.fit(train[\"tokens\"], train[\"wine_variant\"])\n",
    "log_search(search)"
   ]
  },
  {
   "cell_type": "markdown",
   "id": "large-defense",
   "metadata": {},
   "source": [
    "## Optimized Model for SGD Classifier"
   ]
  },
  {
   "cell_type": "code",
   "execution_count": 39,
   "id": "western-vacuum",
   "metadata": {},
   "outputs": [
    {
     "name": "stdout",
     "output_type": "stream",
     "text": [
      "                    precision    recall  f1-score   support\n",
      "\n",
      "Cabernet Sauvignon       0.70      0.80      0.75      7558\n",
      "        Chardonnay       0.79      0.86      0.83      4861\n",
      "            Merlot       0.82      0.34      0.48      1381\n",
      "        Pinot Noir       0.78      0.85      0.81      9618\n",
      "          Riesling       0.80      0.78      0.79      2421\n",
      "   Sauvignon Blanc       0.84      0.66      0.74      1278\n",
      "             Syrah       0.69      0.57      0.62      3426\n",
      "         Zinfandel       0.77      0.55      0.64      2082\n",
      "\n",
      "          accuracy                           0.76     32625\n",
      "         macro avg       0.78      0.68      0.71     32625\n",
      "      weighted avg       0.76      0.76      0.75     32625\n",
      "\n"
     ]
    }
   ],
   "source": [
    "sgd = make_pipeline(\n",
    "    CountVectorizer(analyzer=identity, min_df=2, max_df=0.5234), SGDClassifier(alpha=1.9e-4)\n",
    ")\n",
    "sgd.fit(train[\"tokens\"], train[\"wine_variant\"])\n",
    "predicted = sgd.predict(test[\"tokens\"])\n",
    "print(classification_report(test[\"wine_variant\"], predicted))"
   ]
  },
  {
   "cell_type": "markdown",
   "id": "interim-macintosh",
   "metadata": {},
   "source": [
    "## Passive Aggressive Classifier"
   ]
  },
  {
   "cell_type": "code",
   "execution_count": 19,
   "id": "universal-mainstream",
   "metadata": {},
   "outputs": [],
   "source": [
    "from sklearn.linear_model import PassiveAggressiveClassifier "
   ]
  },
  {
   "cell_type": "code",
   "execution_count": 20,
   "id": "similar-pierre",
   "metadata": {},
   "outputs": [
    {
     "name": "stdout",
     "output_type": "stream",
     "text": [
      "                    precision    recall  f1-score   support\n",
      "\n",
      "Cabernet Sauvignon       0.62      0.80      0.70      7558\n",
      "        Chardonnay       0.85      0.75      0.80      4861\n",
      "            Merlot       0.42      0.35      0.38      1381\n",
      "        Pinot Noir       0.85      0.70      0.77      9618\n",
      "          Riesling       0.69      0.81      0.75      2421\n",
      "   Sauvignon Blanc       0.67      0.68      0.68      1278\n",
      "             Syrah       0.71      0.45      0.55      3426\n",
      "         Zinfandel       0.42      0.65      0.51      2082\n",
      "\n",
      "          accuracy                           0.69     32625\n",
      "         macro avg       0.65      0.65      0.64     32625\n",
      "      weighted avg       0.72      0.69      0.70     32625\n",
      "\n"
     ]
    }
   ],
   "source": [
    "passagg = make_pipeline(CountVectorizer(analyzer=identity), PassiveAggressiveClassifier())\n",
    "passagg.fit(train[\"tokens\"], train[\"wine_variant\"])\n",
    "predicted = passagg.predict(test[\"tokens\"])\n",
    "print(classification_report(test[\"wine_variant\"], predicted)) "
   ]
  },
  {
   "cell_type": "markdown",
   "id": "adverse-minnesota",
   "metadata": {},
   "source": [
    "## TfidTransformer Classifier"
   ]
  },
  {
   "cell_type": "code",
   "execution_count": 21,
   "id": "martial-commitment",
   "metadata": {},
   "outputs": [],
   "source": [
    "from sklearn.feature_extraction.text import TfidfTransformer "
   ]
  },
  {
   "cell_type": "code",
   "execution_count": 22,
   "id": "concrete-split",
   "metadata": {},
   "outputs": [
    {
     "name": "stdout",
     "output_type": "stream",
     "text": [
      "                    precision    recall  f1-score   support\n",
      "\n",
      "Cabernet Sauvignon       0.69      0.81      0.75      7558\n",
      "        Chardonnay       0.78      0.87      0.82      4861\n",
      "            Merlot       0.87      0.32      0.47      1381\n",
      "        Pinot Noir       0.73      0.89      0.80      9618\n",
      "          Riesling       0.83      0.71      0.76      2421\n",
      "   Sauvignon Blanc       0.85      0.62      0.72      1278\n",
      "             Syrah       0.79      0.48      0.60      3426\n",
      "         Zinfandel       0.90      0.48      0.62      2082\n",
      "\n",
      "          accuracy                           0.75     32625\n",
      "         macro avg       0.80      0.65      0.69     32625\n",
      "      weighted avg       0.76      0.75      0.74     32625\n",
      "\n"
     ]
    }
   ],
   "source": [
    "tfid = make_pipeline(CountVectorizer(analyzer=identity), \n",
    "                    TfidfTransformer(), \n",
    "                    SGDClassifier())\n",
    "tfid.fit(train[\"tokens\"], train[\"wine_variant\"])\n",
    "predicted = tfid.predict(test[\"tokens\"])\n",
    "print(classification_report(test[\"wine_variant\"], predicted)) "
   ]
  },
  {
   "cell_type": "markdown",
   "id": "norwegian-hartford",
   "metadata": {},
   "source": [
    "Based on the three classifiers I tried, SGD seems to be the best performing as it has the highest f1-scores out of the three."
   ]
  },
  {
   "cell_type": "markdown",
   "id": "marked-paint",
   "metadata": {},
   "source": [
    "# 2."
   ]
  },
  {
   "cell_type": "markdown",
   "id": "plain-breed",
   "metadata": {},
   "source": [
    "## Predicting Tools Using Labels"
   ]
  },
  {
   "cell_type": "code",
   "execution_count": 23,
   "id": "handled-reverse",
   "metadata": {},
   "outputs": [],
   "source": [
    "from lime.lime_text import LimeTextExplainer\n",
    "import matplotlib.pyplot as plt"
   ]
  },
  {
   "cell_type": "code",
   "execution_count": 24,
   "id": "mounted-workplace",
   "metadata": {},
   "outputs": [],
   "source": [
    "explainer = LimeTextExplainer(class_names=sgd.named_steps['sgdclassifier'].classes_)"
   ]
  },
  {
   "cell_type": "code",
   "execution_count": 61,
   "id": "consolidated-speech",
   "metadata": {},
   "outputs": [],
   "source": [
    "exp = explainer.explain_instance(\n",
    "    test[\"review_text\"].loc[1613], sgd.decision_function, num_features=15, labels=[0, 1, 2, 3]\n",
    ")"
   ]
  },
  {
   "cell_type": "code",
   "execution_count": 62,
   "id": "informative-homework",
   "metadata": {},
   "outputs": [
    {
     "data": {
      "text/plain": [
       "[]"
      ]
     },
     "execution_count": 62,
     "metadata": {},
     "output_type": "execute_result"
    },
    {
     "data": {
      "image/png": "[encoded data removed]",
      "text/plain": [
       "<Figure size 432x288 with 1 Axes>"
      ]
     },
     "metadata": {
      "needs_background": "light"
     },
     "output_type": "display_data"
    },
    {
     "data": {
      "image/png": "[encoded data removed]",
      "text/plain": [
       "<Figure size 432x288 with 1 Axes>"
      ]
     },
     "metadata": {
      "needs_background": "light"
     },
     "output_type": "display_data"
    },
    {
     "data": {
      "image/png": "[encoded data removed]",
      "text/plain": [
       "<Figure size 432x288 with 1 Axes>"
      ]
     },
     "metadata": {
      "needs_background": "light"
     },
     "output_type": "display_data"
    },
    {
     "data": {
      "image/png": "[encoded data removed]",
      "text/plain": [
       "<Figure size 432x288 with 1 Axes>"
      ]
     },
     "metadata": {
      "needs_background": "light"
     },
     "output_type": "display_data"
    }
   ],
   "source": [
    "for i in range(0, 4):\n",
    "    exp.as_pyplot_figure(i)\n",
    "plt.plot()"
   ]
  },
  {
   "cell_type": "markdown",
   "id": "rotary-indian",
   "metadata": {},
   "source": [
    "The aspect that the review texts are most sensitive to are descriptive words as these are core in describing wine quality and taste notes.\n",
    "\n",
    "Based on the charts, there is evidence of overfitting particularly with the word \"road\" as it probably has almost nothing to do with the wines themselves but rather referring to how they would be good to take home."
   ]
  },
  {
   "cell_type": "markdown",
   "id": "early-anderson",
   "metadata": {},
   "source": [
    "# 3."
   ]
  },
  {
   "cell_type": "markdown",
   "id": "compliant-healthcare",
   "metadata": {},
   "source": [
    "## Decision Function"
   ]
  },
  {
   "cell_type": "code",
   "execution_count": 31,
   "id": "arabic-leadership",
   "metadata": {},
   "outputs": [],
   "source": [
    "import cloudpickle\n",
    "from sklearn.metrics import classification_report, f1_score, plot_confusion_matrix"
   ]
  },
  {
   "cell_type": "code",
   "execution_count": 47,
   "id": "radical-environment",
   "metadata": {},
   "outputs": [],
   "source": [
    "scores = sgd.decision_function(test[\"review_text\"]) "
   ]
  },
  {
   "cell_type": "code",
   "execution_count": 48,
   "id": "spectacular-thailand",
   "metadata": {},
   "outputs": [],
   "source": [
    "margin = scores[:,3]-scores[:,2] "
   ]
  },
  {
   "cell_type": "code",
   "execution_count": 49,
   "id": "separated-indie",
   "metadata": {},
   "outputs": [
    {
     "data": {
      "text/plain": [
       "(118.99213738524386, -0.06355110792878571)"
      ]
     },
     "execution_count": 49,
     "metadata": {},
     "output_type": "execute_result"
    }
   ],
   "source": [
    "margin.max(), margin.min()"
   ]
  },
  {
   "cell_type": "code",
   "execution_count": 50,
   "id": "prompt-violence",
   "metadata": {},
   "outputs": [
    {
     "name": "stdout",
     "output_type": "stream",
     "text": [
      "                    precision    recall  f1-score   support\n",
      "\n",
      "Cabernet Sauvignon       0.74      0.81      0.78      5014\n",
      "        Chardonnay       0.83      0.88      0.85      2997\n",
      "            Merlot       0.80      0.37      0.51       851\n",
      "        Pinot Noir       0.82      0.88      0.85      6796\n",
      "          Riesling       0.82      0.83      0.82      1636\n",
      "   Sauvignon Blanc       0.84      0.68      0.75       740\n",
      "             Syrah       0.72      0.62      0.66      2376\n",
      "         Zinfandel       0.76      0.61      0.68      1262\n",
      "\n",
      "          accuracy                           0.79     21672\n",
      "         macro avg       0.79      0.71      0.74     21672\n",
      "      weighted avg       0.79      0.79      0.78     21672\n",
      "\n"
     ]
    }
   ],
   "source": [
    "print(classification_report(test[\"wine_variant\"][margin > 5], predicted[margin > 5]))"
   ]
  },
  {
   "cell_type": "code",
   "execution_count": 55,
   "id": "occupational-treasury",
   "metadata": {},
   "outputs": [
    {
     "data": {
      "text/plain": [
       "Text(0, 0.5, 'F1')"
      ]
     },
     "execution_count": 55,
     "metadata": {},
     "output_type": "execute_result"
    },
    {
     "data": {
      "image/png": "[encoded data removed]",
      "text/plain": [
       "<Figure size 432x288 with 1 Axes>"
      ]
     },
     "metadata": {
      "needs_background": "light"
     },
     "output_type": "display_data"
    }
   ],
   "source": [
    "thresh = np.linspace(-7, 7, 50)\n",
    "x = [100*(1-sum(margin > t)/len(margin)) for t in thresh]\n",
    "y = [f1_score(test[\"wine_variant\"][margin > t], predicted[margin > t], average=\"macro\") for t in thresh]\n",
    "plt.plot(x, y)\n",
    "plt.xlabel('% Unknowns')\n",
    "plt.ylabel('F1') "
   ]
  },
  {
   "cell_type": "markdown",
   "id": "bulgarian-pathology",
   "metadata": {},
   "source": [
    "In order to get a f1-score higher than .85, we would to exclude pretty much everything. We don't want to exclude too much though and so this method is not good."
   ]
  },
  {
   "cell_type": "markdown",
   "id": "closed-baker",
   "metadata": {},
   "source": [
    "# 4."
   ]
  },
  {
   "cell_type": "markdown",
   "id": "engaged-bangkok",
   "metadata": {},
   "source": [
    "## Confusion Matrix"
   ]
  },
  {
   "cell_type": "code",
   "execution_count": 40,
   "id": "distinct-concord",
   "metadata": {},
   "outputs": [],
   "source": [
    "cloudpickle.dump(sgd, open(\"sgd.model\", \"wb\"))"
   ]
  },
  {
   "cell_type": "code",
   "execution_count": 41,
   "id": "realistic-avatar",
   "metadata": {},
   "outputs": [],
   "source": [
    "sgd = cloudpickle.load(open(\"sgd.model\", \"rb\"))"
   ]
  },
  {
   "cell_type": "code",
   "execution_count": 42,
   "id": "rough-cross",
   "metadata": {},
   "outputs": [
    {
     "data": {
      "text/plain": [
       "Pipeline(steps=[('countvectorizer',\n",
       "                 CountVectorizer(analyzer=<cyfunction identity at 0x7fb5deaf12b0>,\n",
       "                                 max_df=0.5234, min_df=2)),\n",
       "                ('sgdclassifier', SGDClassifier(alpha=0.00019))])"
      ]
     },
     "execution_count": 42,
     "metadata": {},
     "output_type": "execute_result"
    }
   ],
   "source": [
    "sgd"
   ]
  },
  {
   "cell_type": "code",
   "execution_count": 43,
   "id": "fresh-bacteria",
   "metadata": {},
   "outputs": [
    {
     "name": "stdout",
     "output_type": "stream",
     "text": [
      "                    precision    recall  f1-score   support\n",
      "\n",
      "Cabernet Sauvignon       0.70      0.80      0.75      7558\n",
      "        Chardonnay       0.79      0.86      0.83      4861\n",
      "            Merlot       0.82      0.34      0.48      1381\n",
      "        Pinot Noir       0.78      0.85      0.81      9618\n",
      "          Riesling       0.80      0.78      0.79      2421\n",
      "   Sauvignon Blanc       0.84      0.66      0.74      1278\n",
      "             Syrah       0.69      0.57      0.62      3426\n",
      "         Zinfandel       0.77      0.55      0.64      2082\n",
      "\n",
      "          accuracy                           0.76     32625\n",
      "         macro avg       0.78      0.68      0.71     32625\n",
      "      weighted avg       0.76      0.76      0.75     32625\n",
      "\n"
     ]
    }
   ],
   "source": [
    "predicted = sgd.predict(test[\"tokens\"])\n",
    "print(classification_report(test[\"wine_variant\"], predicted))"
   ]
  },
  {
   "cell_type": "code",
   "execution_count": 75,
   "id": "seven-burden",
   "metadata": {},
   "outputs": [
    {
     "data": {
      "text/plain": [
       "<sklearn.metrics._plot.confusion_matrix.ConfusionMatrixDisplay at 0x7fb52ef17e20>"
      ]
     },
     "execution_count": 75,
     "metadata": {},
     "output_type": "execute_result"
    },
    {
     "data": {
      "image/png": "[encoded data removed]",
      "text/plain": [
       "<Figure size 576x576 with 2 Axes>"
      ]
     },
     "metadata": {
      "needs_background": "light"
     },
     "output_type": "display_data"
    }
   ],
   "source": [
    "fig, ax = plt.subplots(figsize=(8, 8))\n",
    "plot_confusion_matrix(sgd, test[\"tokens\"], test[\"wine_variant\"], xticks_rotation=-90, ax=ax)"
   ]
  },
  {
   "cell_type": "markdown",
   "id": "wicked-surgeon",
   "metadata": {},
   "source": [
    "## Creating New Labels by Combining Labels"
   ]
  },
  {
   "cell_type": "code",
   "execution_count": 112,
   "id": "elder-giant",
   "metadata": {},
   "outputs": [],
   "source": [
    "train_copy = train.copy()"
   ]
  },
  {
   "cell_type": "code",
   "execution_count": 113,
   "id": "focal-sitting",
   "metadata": {},
   "outputs": [],
   "source": [
    "m = train_copy['wine_variant'].isin(['Cabernet Sauvignon', 'Pinot Noir'])\n",
    "train_copy['wine_variant'] = train_copy['wine_variant'].mask(m, 'Cabernet Sauvignon/Pinot Noir')\n",
    "m = train_copy['wine_variant'].isin(['Chardonnay', 'Riesling'])\n",
    "train_copy['wine_variant'] = train_copy['wine_variant'].mask(m, 'Chardonnay/Riesling')\n",
    "m = train_copy['wine_variant'].isin(['Syrah', 'Zinfandel'])\n",
    "train_copy['wine_variant'] = train_copy['wine_variant'].mask(m, 'Syrah/Zinfandel')\n",
    "m = train_copy['wine_variant'].isin(['Merlot', 'Sauvignon Blanc'])\n",
    "train_copy['wine_variant'] = train_copy['wine_variant'].mask(m, 'Merlot/Sauvignon Blanc')"
   ]
  },
  {
   "cell_type": "code",
   "execution_count": 103,
   "id": "extra-bride",
   "metadata": {},
   "outputs": [],
   "source": [
    "test_copy = test.copy()"
   ]
  },
  {
   "cell_type": "code",
   "execution_count": 104,
   "id": "adolescent-irrigation",
   "metadata": {},
   "outputs": [],
   "source": [
    "m = test_copy['wine_variant'].isin(['Cabernet Sauvignon', 'Pinot Noir'])\n",
    "test_copy['wine_variant'] = test_copy['wine_variant'].mask(m, 'Cabernet Sauvignon/Pinot Noir')\n",
    "m = test_copy['wine_variant'].isin(['Chardonnay', 'Riesling'])\n",
    "test_copy['wine_variant'] = test_copy['wine_variant'].mask(m, 'Chardonnay/Riesling')\n",
    "m = test_copy['wine_variant'].isin(['Syrah', 'Zinfandel'])\n",
    "test_copy['wine_variant'] = test_copy['wine_variant'].mask(m, 'Syrah/Zinfandel')\n",
    "m = test_copy['wine_variant'].isin(['Merlot', 'Sauvignon Blanc'])\n",
    "test_copy['wine_variant'] = test_copy['wine_variant'].mask(m, 'Merlot/Sauvignon Blanc')"
   ]
  },
  {
   "cell_type": "markdown",
   "id": "talented-sessions",
   "metadata": {},
   "source": [
    "## SGD Classifier on New Labels"
   ]
  },
  {
   "cell_type": "code",
   "execution_count": 114,
   "id": "voluntary-award",
   "metadata": {},
   "outputs": [
    {
     "name": "stdout",
     "output_type": "stream",
     "text": [
      "                               precision    recall  f1-score   support\n",
      "\n",
      "Cabernet Sauvignon/Pinot Noir       0.82      0.95      0.88     17176\n",
      "          Chardonnay/Riesling       0.91      0.90      0.91      7282\n",
      "       Merlot/Sauvignon Blanc       0.87      0.47      0.61      2659\n",
      "              Syrah/Zinfandel       0.81      0.60      0.69      5508\n",
      "\n",
      "                     accuracy                           0.84     32625\n",
      "                    macro avg       0.85      0.73      0.77     32625\n",
      "                 weighted avg       0.84      0.84      0.83     32625\n",
      "\n"
     ]
    }
   ],
   "source": [
    "sgd = make_pipeline(CountVectorizer(analyzer=identity), SGDClassifier())\n",
    "sgd.fit(train_copy[\"tokens\"], train_copy[\"wine_variant\"])\n",
    "predicted = sgd.predict(test_copy[\"tokens\"])\n",
    "print(classification_report(test_copy[\"wine_variant\"], predicted))"
   ]
  },
  {
   "cell_type": "markdown",
   "id": "regulated-neighbor",
   "metadata": {},
   "source": [
    "We create new labels based on which wines are cosistently confused for one another. However,  after Cabernet Sauvignon/Pinot Noir and Chardonnay/Riesling,  the remaining wines are not really confused for one another. We are able to increase the f1-score from our initial .71 to .77 but no, it is not possible to get the f1-score at or above .85 after using the classifier on a new set of combined labels. "
   ]
  },
  {
   "cell_type": "code",
   "execution_count": null,
   "id": "adjusted-asbestos",
   "metadata": {},
   "outputs": [],
   "source": []
  }
 ],
 "metadata": {
  "kernelspec": {
   "display_name": "Python 3",
   "language": "python",
   "name": "python3"
  },
  "language_info": {
   "codemirror_mode": {
    "name": "ipython",
    "version": 3
   },
   "file_extension": ".py",
   "mimetype": "text/x-python",
   "name": "python",
   "nbconvert_exporter": "python",
   "pygments_lexer": "ipython3",
   "version": "3.8.6"
  }
 },
 "nbformat": 4,
 "nbformat_minor": 5
}
